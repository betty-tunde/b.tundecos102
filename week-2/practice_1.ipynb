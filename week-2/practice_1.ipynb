{
 "cells": [
  {
   "cell_type": "code",
   "execution_count": 2,
   "metadata": {},
   "outputs": [
    {
     "name": "stdout",
     "output_type": "stream",
     "text": [
      "Your state of origin is:  Ondo\n",
      "The first character is:  O\n",
      "The characters starting from 3rd to 5th are:  do\n",
      "The string starting from the 3rd character is:  do\n",
      "State of origin two times OndoOndo\n"
     ]
    }
   ],
   "source": [
    "str = input(\"Enter your state of origin:\")\n",
    "\n",
    "print(\"Your state of origin is: \", str)\n",
    "print(\"The first character is: \", str[0])\n",
    "print(\"The characters starting from 3rd to 5th are: \", str[2:5])\n",
    "print(\"The string starting from the 3rd character is: \", str[2:])\n",
    "print(\"State of origin two times\", str * 2)"
   ]
  }
 ],
 "metadata": {
  "kernelspec": {
   "display_name": "Python 3",
   "language": "python",
   "name": "python3"
  },
  "language_info": {
   "codemirror_mode": {
    "name": "ipython",
    "version": 3
   },
   "file_extension": ".py",
   "mimetype": "text/x-python",
   "name": "python",
   "nbconvert_exporter": "python",
   "pygments_lexer": "ipython3",
   "version": "3.12.9"
  },
  "orig_nbformat": 4
 },
 "nbformat": 4,
 "nbformat_minor": 2
}
