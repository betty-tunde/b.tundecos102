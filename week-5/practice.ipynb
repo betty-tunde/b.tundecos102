{
 "cells": [
  {
   "cell_type": "code",
   "execution_count": null,
   "metadata": {},
   "outputs": [],
   "source": [
    "def printme(str):\n",
    "    #this is a print function\n",
    "    print(str)\n",
    "    return\n",
    "printme(\"im first call to user defined function!\")\n",
    "printme(\"Again second call to the same function\")"
   ]
  },
  {
   "cell_type": "code",
   "execution_count": null,
   "metadata": {},
   "outputs": [],
   "source": [
    "def changeme(mylist):\n",
    "    #this changes a passed list\n",
    "    mylist.append([1,2,3,4])\n",
    "    print (\"values inside the function :\" ,mylist)\n",
    "    return\n",
    "mylist = [10,20,30]\n",
    "changeme (mylist)\n",
    "print (\"Values outside the function: \",mylist)"
   ]
  },
  {
   "cell_type": "code",
   "execution_count": null,
   "metadata": {},
   "outputs": [],
   "source": [
    "def changeme(mylist):\n",
    "    #this changes a passed list\n",
    "    mylist = [1,2,3,4]\n",
    "    print (\"Values inside the function: \",mylist)\n",
    "    return\n",
    "mylist = [10,20,30]\n",
    "changeme(mylist)\n",
    "print(\"Value outside the function: \",mylist)"
   ]
  },
  {
   "cell_type": "code",
   "execution_count": null,
   "metadata": {},
   "outputs": [],
   "source": [
    "def printme(str):\n",
    "    #this prints a passed string\n",
    "    print (str)\n",
    "    return\n",
    "printme(str = \"My string\")"
   ]
  },
  {
   "cell_type": "code",
   "execution_count": null,
   "metadata": {},
   "outputs": [],
   "source": [
    "def printinfo(name,age):\n",
    "    #Test function\n",
    "    print(\"Name:\",name)\n",
    "    print(\"age:\",age)\n",
    "    return\n",
    "printinfo(age= 50 , name = \"MIKKI\")"
   ]
  },
  {
   "cell_type": "code",
   "execution_count": null,
   "metadata": {},
   "outputs": [],
   "source": [
    "def printinfo(arg1,*vartuple):\n",
    "    #This is test\n",
    "    print (\"output is : \")\n",
    "    print (arg1)\n",
    "    for var in vartuple:\n",
    "        print (var)\n",
    "        return\n",
    "printinfo(10)\n",
    "printinfo(70,60,50)"
   ]
  },
  {
   "cell_type": "code",
   "execution_count": null,
   "metadata": {},
   "outputs": [],
   "source": [
    "total = 50 #this is global variable\n",
    "def sum(arg1 ,arg2):\n",
    "    #add both the parameters\n",
    "    total = arg1 + arg2\n",
    "    print(\"inside the function local total : \",total)\n",
    "    return total\n",
    "#Now you can call sum function\n",
    "sum(10,20)\n",
    "print(\"Outside the function global total : \",total)"
   ]
  },
  {
   "cell_type": "code",
   "execution_count": null,
   "metadata": {},
   "outputs": [],
   "source": [
    "def swap(x,y):\n",
    "    global a\n",
    "    a = \"Lawal\"\n",
    "    x,y = y,x\n",
    "    b = \"Chris\"\n",
    "    b = \"Edward\"\n",
    "    c = \"Lola\"\n",
    "    print(a,b,x,y)\n",
    "    a = \"Mary\"\n",
    "swap(\"Tina\",\"Tolu\")\n",
    "print(a)"
   ]
  }
 ],
 "metadata": {
  "language_info": {
   "name": "python"
  },
  "orig_nbformat": 4
 },
 "nbformat": 4,
 "nbformat_minor": 2
}
